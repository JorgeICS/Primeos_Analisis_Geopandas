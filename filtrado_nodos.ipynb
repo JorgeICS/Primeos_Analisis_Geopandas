{
  "nbformat": 4,
  "nbformat_minor": 0,
  "metadata": {
    "colab": {
      "provenance": [],
      "authorship_tag": "ABX9TyOjeKjK1ytGE1QZ3LF+zgSH",
      "include_colab_link": true
    },
    "kernelspec": {
      "name": "python3",
      "display_name": "Python 3"
    },
    "language_info": {
      "name": "python"
    }
  },
  "cells": [
    {
      "cell_type": "markdown",
      "metadata": {
        "id": "view-in-github",
        "colab_type": "text"
      },
      "source": [
        "<a href=\"https://colab.research.google.com/github/JorgeICS/Primeos_Analisis_Geopandas/blob/filtro-por-Nodos-simplificado/filtrado_nodos.ipynb\" target=\"_parent\"><img src=\"https://colab.research.google.com/assets/colab-badge.svg\" alt=\"Open In Colab\"/></a>"
      ]
    },
    {
      "cell_type": "code",
      "source": [
        "!pip install geopandas pandas matplotlib"
      ],
      "metadata": {
        "colab": {
          "base_uri": "https://localhost:8080/"
        },
        "id": "fsNpcQrY942L",
        "outputId": "85176ab2-d528-4f63-93a1-2db6ddc6e2e6"
      },
      "execution_count": null,
      "outputs": [
        {
          "output_type": "stream",
          "name": "stdout",
          "text": [
            "Requirement already satisfied: geopandas in /usr/local/lib/python3.10/dist-packages (0.13.2)\n",
            "Requirement already satisfied: pandas in /usr/local/lib/python3.10/dist-packages (2.0.3)\n",
            "Requirement already satisfied: matplotlib in /usr/local/lib/python3.10/dist-packages (3.7.1)\n",
            "Requirement already satisfied: fiona>=1.8.19 in /usr/local/lib/python3.10/dist-packages (from geopandas) (1.9.6)\n",
            "Requirement already satisfied: packaging in /usr/local/lib/python3.10/dist-packages (from geopandas) (24.1)\n",
            "Requirement already satisfied: pyproj>=3.0.1 in /usr/local/lib/python3.10/dist-packages (from geopandas) (3.6.1)\n",
            "Requirement already satisfied: shapely>=1.7.1 in /usr/local/lib/python3.10/dist-packages (from geopandas) (2.0.5)\n",
            "Requirement already satisfied: python-dateutil>=2.8.2 in /usr/local/lib/python3.10/dist-packages (from pandas) (2.8.2)\n",
            "Requirement already satisfied: pytz>=2020.1 in /usr/local/lib/python3.10/dist-packages (from pandas) (2023.4)\n",
            "Requirement already satisfied: tzdata>=2022.1 in /usr/local/lib/python3.10/dist-packages (from pandas) (2024.1)\n",
            "Requirement already satisfied: numpy>=1.21.0 in /usr/local/lib/python3.10/dist-packages (from pandas) (1.25.2)\n",
            "Requirement already satisfied: contourpy>=1.0.1 in /usr/local/lib/python3.10/dist-packages (from matplotlib) (1.2.1)\n",
            "Requirement already satisfied: cycler>=0.10 in /usr/local/lib/python3.10/dist-packages (from matplotlib) (0.12.1)\n",
            "Requirement already satisfied: fonttools>=4.22.0 in /usr/local/lib/python3.10/dist-packages (from matplotlib) (4.53.1)\n",
            "Requirement already satisfied: kiwisolver>=1.0.1 in /usr/local/lib/python3.10/dist-packages (from matplotlib) (1.4.5)\n",
            "Requirement already satisfied: pillow>=6.2.0 in /usr/local/lib/python3.10/dist-packages (from matplotlib) (9.4.0)\n",
            "Requirement already satisfied: pyparsing>=2.3.1 in /usr/local/lib/python3.10/dist-packages (from matplotlib) (3.1.2)\n",
            "Requirement already satisfied: attrs>=19.2.0 in /usr/local/lib/python3.10/dist-packages (from fiona>=1.8.19->geopandas) (23.2.0)\n",
            "Requirement already satisfied: certifi in /usr/local/lib/python3.10/dist-packages (from fiona>=1.8.19->geopandas) (2024.7.4)\n",
            "Requirement already satisfied: click~=8.0 in /usr/local/lib/python3.10/dist-packages (from fiona>=1.8.19->geopandas) (8.1.7)\n",
            "Requirement already satisfied: click-plugins>=1.0 in /usr/local/lib/python3.10/dist-packages (from fiona>=1.8.19->geopandas) (1.1.1)\n",
            "Requirement already satisfied: cligj>=0.5 in /usr/local/lib/python3.10/dist-packages (from fiona>=1.8.19->geopandas) (0.7.2)\n",
            "Requirement already satisfied: six in /usr/local/lib/python3.10/dist-packages (from fiona>=1.8.19->geopandas) (1.16.0)\n"
          ]
        }
      ]
    },
    {
      "cell_type": "code",
      "source": [
        "import geopandas as gpd\n",
        "import pandas as pd\n",
        "import matplotlib.pyplot as plt"
      ],
      "metadata": {
        "id": "NsxAnpxE-2i4"
      },
      "execution_count": null,
      "outputs": []
    },
    {
      "cell_type": "code",
      "source": [
        "columna_df1 = 'UNION_INI'\n",
        "columna_df2 = 'UNION_FIN'\n",
        "\n",
        "for idx, row in sin_ID.iterrows():\n",
        "    if row[columna_df1] in CF_con_ID[columna_df2].values:\n",
        "        nombre_df2 = CF_con_ID.loc[CF_con_ID[columna_df2] == row[columna_df1], 'NOMBRE'].values[0]\n",
        "        sin_ID.loc[idx, 'conex_ini'] = nombre_df2\n",
        "    else:\n",
        "        sin_ID.loc[idx, 'conex_ini'] = 'nd'"
      ],
      "metadata": {
        "id": "Nqz_kRozBxto"
      },
      "execution_count": null,
      "outputs": []
    },
    {
      "cell_type": "code",
      "source": [
        "\n",
        "\n",
        "for idx, row in sin_ID.iterrows():\n",
        "    if row[columna_df2] in CF_con_ID[columna_df1].values:\n",
        "        nombre_df2 = CF_con_ID.loc[CF_con_ID[columna_df1] == row[columna_df2], 'NOMBRE'].values[0]\n",
        "        sin_ID.loc[idx, 'conex_fin'] = nombre_df2\n",
        "    else:\n",
        "        sin_ID.loc[idx, 'conex_fin'] = 'nd'"
      ],
      "metadata": {
        "id": "UW7mjQYjCN31"
      },
      "execution_count": null,
      "outputs": []
    },
    {
      "cell_type": "code",
      "source": [
        "sin_ID.loc[(sin_ID['conex_ini'] == sin_ID['conex_fin']) & (sin_ID['conex_ini'].str.len() > 2), 'NOMBRE'] = sin_ID['conex_ini']"
      ],
      "metadata": {
        "id": "qBzWCXYfCvq_"
      },
      "execution_count": null,
      "outputs": []
    },
    {
      "cell_type": "code",
      "source": [
        "# Prueba\n",
        "columna_df1 = 'UNION_INI'\n",
        "columna_df2 = 'UNION_FIN'\n",
        "\n",
        "for idx, row in sin_ID.iterrows():\n",
        "    # Actualizar conex_ini\n",
        "    if row[columna_df1] in CF_con_ID[columna_df2].values:\n",
        "        nombre_df2_ini = CF_con_ID.loc[CF_con_ID[columna_df2] == row[columna_df1], 'NOMBRE'].values[0]\n",
        "        sin_ID.at[idx, 'conex_ini'] = nombre_df2_ini\n",
        "    else:\n",
        "        sin_ID.at[idx, 'conex_ini'] = 'nd'\n",
        "\n",
        "    # Actualizar conex_fin\n",
        "    if row[columna_df2] in CF_con_ID[columna_df1].values:\n",
        "        nombre_df2_fin = CF_con_ID.loc[CF_con_ID[columna_df1] == row[columna_df2], 'NOMBRE'].values[0]\n",
        "        sin_ID.at[idx, 'conex_fin'] = nombre_df2_fin\n",
        "    else:\n",
        "        sin_ID.at[idx, 'conex_fin'] = 'nd'\n",
        "\n",
        "    # Actualizar NOMBRE si conex_ini y conex_fin son iguales y no son 'nd'\n",
        "    if sin_ID.at[idx, 'conex_ini'] == sin_ID.at[idx, 'conex_fin'] and len(sin_ID.at[idx, 'conex_ini']) > 2:\n",
        "        sin_ID.at[idx, 'NOMBRE'] = sin_ID.at[idx, 'conex_ini']"
      ],
      "metadata": {
        "id": "1lrbA2e2DPG4"
      },
      "execution_count": null,
      "outputs": []
    },
    {
      "cell_type": "code",
      "source": [
        "# Prueba 2\n",
        "columna_df1 = 'UNION_INI'\n",
        "columna_df2 = 'UNION_FIN'\n",
        "\n",
        "for idx, row in sin_ID.iterrows():\n",
        "    # Actualizar conex_ini\n",
        "    if row[columna_df1] in CF_con_ID[columna_df2].values:\n",
        "        nombre_df2_ini = CF_con_ID.loc[CF_con_ID[columna_df2] == row[columna_df1], 'NOMBRE'].values[0]\n",
        "        #sin_ID.at[idx, 'conex_ini'] = nombre_df2_ini\n",
        "    else:\n",
        "        nombre_df2_ini = 'nd'\n",
        "\n",
        "    # Actualizar conex_fin\n",
        "    if row[columna_df2] in CF_con_ID[columna_df1].values:\n",
        "        nombre_df2_fin = CF_con_ID.loc[CF_con_ID[columna_df1] == row[columna_df2], 'NOMBRE'].values[0]\n",
        "        #sin_ID.at[idx, 'conex_fin'] = nombre_df2_fin\n",
        "    else:\n",
        "        nombre_df2_fin = 'nd'\n",
        "    # Actualizar NOMBRE si conex_ini y conex_fin son iguales\n",
        "    if nombre_df2_ini == nombre_df2_fin and len(nombre_df2_ini) > 2:\n",
        "        sin_ID.at[idx, 'NOMBRE'] = nombre_df2_ini\n",
        "        añadido = sin_ID.loc[sin_ID['NOMBRE']!='nd']\n",
        "        CF_con_ID = pd.concat([añadido, CF_con_ID],ignore_index=False)\n",
        "        sin_ID = sin_ID.drop(sin_ID.loc[sin_ID['NOMBRE']!='nd'], axis=1)\n",
        "    else:\n",
        "        sin_ID.at[idx, 'NOMBRE'] = sin_ID.at[idx, 'NOMBRE']\n"
      ],
      "metadata": {
        "id": "mq0OEPKQMJAC"
      },
      "execution_count": null,
      "outputs": []
    }
  ]
}